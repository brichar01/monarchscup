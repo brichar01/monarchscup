{
 "cells": [
  {
   "cell_type": "code",
   "execution_count": 2,
   "metadata": {},
   "outputs": [
    {
     "ename": "ImproperlyConfigured",
     "evalue": "Requested setting INSTALLED_APPS, but settings are not configured. You must either define the environment variable DJANGO_SETTINGS_MODULE or call settings.configure() before accessing settings.",
     "output_type": "error",
     "traceback": [
      "\u001b[0;31m---------------------------------------------------------------------------\u001b[0m",
      "\u001b[0;31mImproperlyConfigured\u001b[0m                      Traceback (most recent call last)",
      "Cell \u001b[0;32mIn[2], line 1\u001b[0m\n\u001b[0;32m----> 1\u001b[0m \u001b[39mfrom\u001b[39;00m \u001b[39mmodels\u001b[39;00m \u001b[39mimport\u001b[39;00m GameModel, GroupModel, ParticipantModel, PlayerModel, RoundModel, ScoreModel, TeamModel\n\u001b[1;32m      4\u001b[0m \u001b[39mclass\u001b[39;00m \u001b[39mTeamWithScore\u001b[39;00m:\n\u001b[1;32m      5\u001b[0m     \u001b[39mdef\u001b[39;00m \u001b[39m__init__\u001b[39m(\u001b[39mself\u001b[39m, players: \u001b[39mstr\u001b[39m, score: \u001b[39mint\u001b[39m, spirit: \u001b[39mint\u001b[39m, mvps: \u001b[39mstr\u001b[39m):\n",
      "File \u001b[0;32m~/projects/monarch-cup/monarchscup/tournament/models.py:4\u001b[0m\n\u001b[1;32m      1\u001b[0m \u001b[39mfrom\u001b[39;00m \u001b[39mdjango\u001b[39;00m\u001b[39m.\u001b[39;00m\u001b[39mdb\u001b[39;00m \u001b[39mimport\u001b[39;00m models\n\u001b[1;32m      3\u001b[0m \u001b[39m# Create your models here.\u001b[39;00m\n\u001b[0;32m----> 4\u001b[0m \u001b[39mclass\u001b[39;00m \u001b[39mRoundModel\u001b[39;00m(models\u001b[39m.\u001b[39mModel):\n\u001b[1;32m      5\u001b[0m     date \u001b[39m=\u001b[39m models\u001b[39m.\u001b[39mDateField(auto_now\u001b[39m=\u001b[39m\u001b[39mTrue\u001b[39;00m)\n\u001b[1;32m      6\u001b[0m     round_num \u001b[39m=\u001b[39m models\u001b[39m.\u001b[39mIntegerField(default\u001b[39m=\u001b[39m\u001b[39m0\u001b[39m)\n",
      "File \u001b[0;32m~/.local/lib/python3.10/site-packages/django/db/models/base.py:127\u001b[0m, in \u001b[0;36mModelBase.__new__\u001b[0;34m(cls, name, bases, attrs, **kwargs)\u001b[0m\n\u001b[1;32m    124\u001b[0m app_label \u001b[39m=\u001b[39m \u001b[39mNone\u001b[39;00m\n\u001b[1;32m    126\u001b[0m \u001b[39m# Look for an application configuration to attach the model to.\u001b[39;00m\n\u001b[0;32m--> 127\u001b[0m app_config \u001b[39m=\u001b[39m apps\u001b[39m.\u001b[39;49mget_containing_app_config(module)\n\u001b[1;32m    129\u001b[0m \u001b[39mif\u001b[39;00m \u001b[39mgetattr\u001b[39m(meta, \u001b[39m\"\u001b[39m\u001b[39mapp_label\u001b[39m\u001b[39m\"\u001b[39m, \u001b[39mNone\u001b[39;00m) \u001b[39mis\u001b[39;00m \u001b[39mNone\u001b[39;00m:\n\u001b[1;32m    130\u001b[0m     \u001b[39mif\u001b[39;00m app_config \u001b[39mis\u001b[39;00m \u001b[39mNone\u001b[39;00m:\n",
      "File \u001b[0;32m~/.local/lib/python3.10/site-packages/django/apps/registry.py:260\u001b[0m, in \u001b[0;36mApps.get_containing_app_config\u001b[0;34m(self, object_name)\u001b[0m\n\u001b[1;32m    251\u001b[0m \u001b[39mdef\u001b[39;00m \u001b[39mget_containing_app_config\u001b[39m(\u001b[39mself\u001b[39m, object_name):\n\u001b[1;32m    252\u001b[0m     \u001b[39m\"\"\"\u001b[39;00m\n\u001b[1;32m    253\u001b[0m \u001b[39m    Look for an app config containing a given object.\u001b[39;00m\n\u001b[1;32m    254\u001b[0m \n\u001b[0;32m   (...)\u001b[0m\n\u001b[1;32m    258\u001b[0m \u001b[39m    Return None if the object isn't in any registered app config.\u001b[39;00m\n\u001b[1;32m    259\u001b[0m \u001b[39m    \"\"\"\u001b[39;00m\n\u001b[0;32m--> 260\u001b[0m     \u001b[39mself\u001b[39;49m\u001b[39m.\u001b[39;49mcheck_apps_ready()\n\u001b[1;32m    261\u001b[0m     candidates \u001b[39m=\u001b[39m []\n\u001b[1;32m    262\u001b[0m     \u001b[39mfor\u001b[39;00m app_config \u001b[39min\u001b[39;00m \u001b[39mself\u001b[39m\u001b[39m.\u001b[39mapp_configs\u001b[39m.\u001b[39mvalues():\n",
      "File \u001b[0;32m~/.local/lib/python3.10/site-packages/django/apps/registry.py:137\u001b[0m, in \u001b[0;36mApps.check_apps_ready\u001b[0;34m(self)\u001b[0m\n\u001b[1;32m    132\u001b[0m \u001b[39mfrom\u001b[39;00m \u001b[39mdjango\u001b[39;00m\u001b[39m.\u001b[39;00m\u001b[39mconf\u001b[39;00m \u001b[39mimport\u001b[39;00m settings\n\u001b[1;32m    134\u001b[0m \u001b[39m# If \"not ready\" is due to unconfigured settings, accessing\u001b[39;00m\n\u001b[1;32m    135\u001b[0m \u001b[39m# INSTALLED_APPS raises a more helpful ImproperlyConfigured\u001b[39;00m\n\u001b[1;32m    136\u001b[0m \u001b[39m# exception.\u001b[39;00m\n\u001b[0;32m--> 137\u001b[0m settings\u001b[39m.\u001b[39;49mINSTALLED_APPS\n\u001b[1;32m    138\u001b[0m \u001b[39mraise\u001b[39;00m AppRegistryNotReady(\u001b[39m\"\u001b[39m\u001b[39mApps aren\u001b[39m\u001b[39m'\u001b[39m\u001b[39mt loaded yet.\u001b[39m\u001b[39m\"\u001b[39m)\n",
      "File \u001b[0;32m~/.local/lib/python3.10/site-packages/django/conf/__init__.py:92\u001b[0m, in \u001b[0;36mLazySettings.__getattr__\u001b[0;34m(self, name)\u001b[0m\n\u001b[1;32m     90\u001b[0m \u001b[39m\"\"\"Return the value of a setting and cache it in self.__dict__.\"\"\"\u001b[39;00m\n\u001b[1;32m     91\u001b[0m \u001b[39mif\u001b[39;00m (_wrapped \u001b[39m:=\u001b[39m \u001b[39mself\u001b[39m\u001b[39m.\u001b[39m_wrapped) \u001b[39mis\u001b[39;00m empty:\n\u001b[0;32m---> 92\u001b[0m     \u001b[39mself\u001b[39;49m\u001b[39m.\u001b[39;49m_setup(name)\n\u001b[1;32m     93\u001b[0m     _wrapped \u001b[39m=\u001b[39m \u001b[39mself\u001b[39m\u001b[39m.\u001b[39m_wrapped\n\u001b[1;32m     94\u001b[0m val \u001b[39m=\u001b[39m \u001b[39mgetattr\u001b[39m(_wrapped, name)\n",
      "File \u001b[0;32m~/.local/lib/python3.10/site-packages/django/conf/__init__.py:72\u001b[0m, in \u001b[0;36mLazySettings._setup\u001b[0;34m(self, name)\u001b[0m\n\u001b[1;32m     70\u001b[0m \u001b[39mif\u001b[39;00m \u001b[39mnot\u001b[39;00m settings_module:\n\u001b[1;32m     71\u001b[0m     desc \u001b[39m=\u001b[39m (\u001b[39m\"\u001b[39m\u001b[39msetting \u001b[39m\u001b[39m%s\u001b[39;00m\u001b[39m\"\u001b[39m \u001b[39m%\u001b[39m name) \u001b[39mif\u001b[39;00m name \u001b[39melse\u001b[39;00m \u001b[39m\"\u001b[39m\u001b[39msettings\u001b[39m\u001b[39m\"\u001b[39m\n\u001b[0;32m---> 72\u001b[0m     \u001b[39mraise\u001b[39;00m ImproperlyConfigured(\n\u001b[1;32m     73\u001b[0m         \u001b[39m\"\u001b[39m\u001b[39mRequested \u001b[39m\u001b[39m%s\u001b[39;00m\u001b[39m, but settings are not configured. \u001b[39m\u001b[39m\"\u001b[39m\n\u001b[1;32m     74\u001b[0m         \u001b[39m\"\u001b[39m\u001b[39mYou must either define the environment variable \u001b[39m\u001b[39m%s\u001b[39;00m\u001b[39m \u001b[39m\u001b[39m\"\u001b[39m\n\u001b[1;32m     75\u001b[0m         \u001b[39m\"\u001b[39m\u001b[39mor call settings.configure() before accessing settings.\u001b[39m\u001b[39m\"\u001b[39m\n\u001b[1;32m     76\u001b[0m         \u001b[39m%\u001b[39m (desc, ENVIRONMENT_VARIABLE)\n\u001b[1;32m     77\u001b[0m     )\n\u001b[1;32m     79\u001b[0m \u001b[39mself\u001b[39m\u001b[39m.\u001b[39m_wrapped \u001b[39m=\u001b[39m Settings(settings_module)\n",
      "\u001b[0;31mImproperlyConfigured\u001b[0m: Requested setting INSTALLED_APPS, but settings are not configured. You must either define the environment variable DJANGO_SETTINGS_MODULE or call settings.configure() before accessing settings."
     ]
    }
   ],
   "source": [
    "from tournament.models import GameModel, GroupModel, ParticipantModel, PlayerModel, RoundModel, ScoreModel, TeamModel\n",
    "\n",
    "\n",
    "class TeamWithScore:\n",
    "    def __init__(self, players: str, score: int, spirit: int, mvps: str):\n",
    "        self.players = players\n",
    "        self.score = score\n",
    "        self.spirit = spirit\n",
    "        self.mvps = mvps\n",
    "\n",
    "\n",
    "def get_players_from_str(players: str):\n",
    "    return [ PlayerModel.objects.get(name=player_name) for player_name in [ player.strip('\\' ') for player in players.strip('[]').split(',') ] ]\n",
    "\n",
    "\n",
    "def create_team(round, players):\n",
    "    team = TeamModel(round=round)\n",
    "    team.save()\n",
    "    for player in players:\n",
    "        ParticipantModel(team=team, player=player, did_attend=True).save()\n",
    "    return team\n",
    "\n",
    "\n",
    "def create_game(round, t1: TeamWithScore, t2: TeamWithScore):\n",
    "    team1 = create_team(round, get_players_from_str(t1.players))\n",
    "    team2 = create_team(round, get_players_from_str(t2.players))\n",
    "    t1_mvp_players = get_players_from_str(t1.mvps);\n",
    "    t1_result = ScoreModel(points = t1.score, spirit = t1.spirit, mvp1 = t1_mvp_players[0], mvp2 = t1_mvp_players[1]).save()\n",
    "    t2_mvp_players = get_players_from_str(t2.mvps);\n",
    "    t2_result = ScoreModel(points = t2.score, spirit = t2.spirit, mvp1 = t2_mvp_players[0], mvp2 = t2_mvp_players[1]).save()\n",
    "    GameModel(round=round, team1=team1, result_team_1= t1_result, team2=team2, result_team_2=t2_result).save()\n",
    "\n",
    "\n",
    "def add_round(round_num, t1: TeamWithScore, t2: TeamWithScore, t3: TeamWithScore, t4: TeamWithScore):\n",
    "    round = RoundModel(round_num=round_num)\n",
    "    round.save()\n",
    "    \n",
    "    create_game(round, t1, t2)\n",
    "    create_game(round, t3, t4)\n",
    "\n",
    "\n",
    "# t1 = TeamWithScore(\"'Diana Strehlow', 'Lucy Griffiths', 'Evie Griggs', 'Bridgette Wright', 'Vincent Yap', 'Jonathon Logan', 'Jesse Griggs', 'Aaron Benham'\", 15, 11, \"Nick Beeton,Callum Clark\")\n",
    "# t2 = TeamWithScore(\"'Sarah Blundy', 'Jody Griggs', 'Hannah Sheers', 'Ben Curtis', 'Harry Driessen', 'Chris Haines', 'Daniel Morrison', 'John Morrison'\", 6, 10, \"Harry Driessen,Hannah Sheers\")\n",
    "# t3 = TeamWithScore(\"'Richard Corry', 'Finlay Grant', 'Mike Baker', 'Isaac Petrie', 'Josh Petrie', 'Andrew Cole', 'Thomas Young', 'Jesse Rowlands', 'Harry Bird'\", 15, 11, \"Mike Baker, Finlay Grant\")\n",
    "# t4 = TeamWithScore(\"'Oliver Morphett', 'Angus Williams', 'Adam Baines', 'Christopher Moore', 'Jonathon Logan', 'Vincent Yap', 'Nick Smith', 'Josh Snead', 'Roman Seliga', 'Nick Beeton'\", 11, 11, \"Josh Snead, Oliver Morphett\")\n",
    "\n",
    "# add_round(2,t1,t2,t3,t4)\n",
    "\n",
    "t1 = TeamWithScore(\"['Jody Griggs', 'Evie Griggs', 'Kate Hammerton', 'Jesse Griggs', 'Josh Petrie', 'Isaac Petrie', 'Ken Suber', 'Ben Richards', 'Diana Strehlow']\", 13, 13, \"Isaac Petrie, Jesse Griggs\")\n",
    "t2 = TeamWithScore(\"['Bridgette Wright', 'Sarah Blundy', 'Jonathon Logan', 'Aaron Benham', 'Vincent Yap', 'Harry Bird', 'Callum Clarke', 'Leanne Caine']\", 15, 12, \"Callum Clarke, Aaron Benham\")\n",
    "t3 = TeamWithScore(\"['Christopher Moore', 'Mike Baker', 'Oliver Morphett', 'Angus Williams', 'Adam Baines', 'Steven Kassar', 'Richard Corry']\", 14, 12, \"Christopher Moore, Adam Baines\")\n",
    "t4 = TeamWithScore(\"['Thomas Young', 'Chris Haines', 'Josh Snead', 'Nick Beeton', 'Nick Smith', 'Roman Seliga']\", 15, 11, \"Nick Beeton, Nick Smith\")\n",
    "\n",
    "add_round(7,t1,t2,t3,t4)\n"
   ]
  }
 ],
 "metadata": {
  "kernelspec": {
   "display_name": "Python 3",
   "language": "python",
   "name": "python3"
  },
  "language_info": {
   "codemirror_mode": {
    "name": "ipython",
    "version": 3
   },
   "file_extension": ".py",
   "mimetype": "text/x-python",
   "name": "python",
   "nbconvert_exporter": "python",
   "pygments_lexer": "ipython3",
   "version": "3.10.6"
  },
  "orig_nbformat": 4
 },
 "nbformat": 4,
 "nbformat_minor": 2
}
